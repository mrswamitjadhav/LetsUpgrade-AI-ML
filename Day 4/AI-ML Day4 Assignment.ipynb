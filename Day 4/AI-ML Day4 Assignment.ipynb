{
 "cells": [
  {
   "cell_type": "markdown",
   "metadata": {},
   "source": [
    "# Question 1 :\n",
    "### Research on whether addition, subtraction, multiplication, division, floor division and modulo operations be performed on complex numbers. Based on your study, implement a Python program to demonstrate these operations."
   ]
  },
  {
   "cell_type": "code",
   "execution_count": 1,
   "metadata": {},
   "outputs": [
    {
     "name": "stdout",
     "output_type": "stream",
     "text": [
      "(11+12j)\n"
     ]
    }
   ],
   "source": [
    "#Addition of Complex numbers\n",
    "\n",
    "a = 5 + 5j\n",
    "b = 6 + 7j\n",
    "\n",
    "c = a+b\n",
    "print(c)"
   ]
  },
  {
   "cell_type": "code",
   "execution_count": 2,
   "metadata": {},
   "outputs": [
    {
     "name": "stdout",
     "output_type": "stream",
     "text": [
      "(-1-2j)\n"
     ]
    }
   ],
   "source": [
    "#Subtraction of Complex numbers\n",
    "\n",
    "a = 5 + 5j\n",
    "b = 6 + 7j\n",
    "\n",
    "c = a-b\n",
    "print(c)"
   ]
  },
  {
   "cell_type": "code",
   "execution_count": 3,
   "metadata": {},
   "outputs": [
    {
     "name": "stdout",
     "output_type": "stream",
     "text": [
      "(-5+65j)\n"
     ]
    }
   ],
   "source": [
    "#Multiplication of Complex numbers\n",
    "\n",
    "a = 5 + 5j\n",
    "b = 6 + 7j\n",
    "\n",
    "c = a*b\n",
    "print(c)"
   ]
  },
  {
   "cell_type": "code",
   "execution_count": null,
   "metadata": {},
   "outputs": [],
   "source": [
    "#Division of Complex numbers\n",
    "\n",
    "a = 5 + 5j\n",
    "b = 6 + 7j\n",
    "\n",
    "c = a/b\n",
    "print(c)"
   ]
  },
  {
   "cell_type": "code",
   "execution_count": 7,
   "metadata": {},
   "outputs": [
    {
     "name": "stdout",
     "output_type": "stream",
     "text": [
      "0j\n"
     ]
    },
    {
     "name": "stderr",
     "output_type": "stream",
     "text": [
      "c:\\python27\\lib\\site-packages\\ipykernel_launcher.py:6: DeprecationWarning: complex divmod(), // and % are deprecated\n",
      "  \n"
     ]
    }
   ],
   "source": [
    "#Floor Division of Complex numbers\n",
    "\n",
    "a = 5 + 5j\n",
    "b = 6 + 7j\n",
    "\n",
    "c = a//b\n",
    "print(c)\n",
    "\n",
    "#output:\n",
    "# TypeError: can't take floor of complex number."
   ]
  },
  {
   "cell_type": "code",
   "execution_count": 8,
   "metadata": {},
   "outputs": [
    {
     "name": "stdout",
     "output_type": "stream",
     "text": [
      "(5+5j)\n"
     ]
    },
    {
     "name": "stderr",
     "output_type": "stream",
     "text": [
      "c:\\python27\\lib\\site-packages\\ipykernel_launcher.py:6: DeprecationWarning: complex divmod(), // and % are deprecated\n",
      "  \n"
     ]
    }
   ],
   "source": [
    "#Modulo of Complex numbers\n",
    "\n",
    "a = 5 + 5j\n",
    "b = 6 + 7j\n",
    "\n",
    "c = a%b\n",
    "print(c)\n",
    "\n",
    "#output:\n",
    "# TypeError: can't mod complex numbers"
   ]
  },
  {
   "cell_type": "markdown",
   "metadata": {},
   "source": [
    "# Question 2 :\n",
    "### Research on range() functions and its parameters. Create a markdown cell and write in your own words what you understand about it. Implement a small program of your choice on the same\n",
    "\n"
   ]
  },
  {
   "cell_type": "markdown",
   "metadata": {},
   "source": [
    "range(5): It goes from 0 to 4 to generate a sequence of numbers\n",
    "\n",
    "range(start, stop, stepsize): Default stepsize is 1\n",
    "\n",
    "The range() function returns a sequence of numbers, starting from 0 by default, and increments by 1 (by default), and stops before a specified number."
   ]
  },
  {
   "cell_type": "code",
   "execution_count": 10,
   "metadata": {},
   "outputs": [
    {
     "name": "stdout",
     "output_type": "stream",
     "text": [
      "0\n",
      "1\n",
      "2\n",
      "3\n",
      "4\n",
      "5\n"
     ]
    }
   ],
   "source": [
    "# range() function example\n",
    "\n",
    "a = range(6)\n",
    "for i in a:\n",
    "    print(i)"
   ]
  },
  {
   "cell_type": "markdown",
   "metadata": {},
   "source": [
    "# Question 3:\n",
    "### Consider two numbers. Perform their subtraction and if the result of subtraction is greater than 25, print their multiplication result else print their division result."
   ]
  },
  {
   "cell_type": "code",
   "execution_count": 12,
   "metadata": {},
   "outputs": [
    {
     "name": "stdout",
     "output_type": "stream",
     "text": [
      "('Division of', 30, '/', 10, 'is : ', 3)\n"
     ]
    }
   ],
   "source": [
    "first_no = 30\n",
    "second_no = 10\n",
    "\n",
    "result = first_no - second_no\n",
    "\n",
    "if result > 25:\n",
    "    print(\"Multiplication of\",first_no,\"*\",second_no,\"is : \",first_no*second_no)\n",
    "else:\n",
    "    print(\"Division of\",first_no,\"/\",second_no,\"is : \",first_no/second_no)"
   ]
  },
  {
   "cell_type": "markdown",
   "metadata": {},
   "source": [
    "# Question 4:\n",
    "### Consider a list of 10 elements of integer values. If the number in the list is divisible by 2, print the result as \"square of that number minus 2\""
   ]
  },
  {
   "cell_type": "code",
   "execution_count": 4,
   "metadata": {
    "scrolled": true
   },
   "outputs": [
    {
     "name": "stdout",
     "output_type": "stream",
     "text": [
      "Square of 2 minus 2: 2\n",
      "Square of 4 minus 2: 14\n",
      "Square of 6 minus 2: 34\n",
      "Square of 8 minus 2: 62\n",
      "Square of 10 minus 2: 98\n"
     ]
    }
   ],
   "source": [
    "a  = [1,2,3,4,5,6,7,8,9,10]\n",
    "\n",
    "for n in a:\n",
    "    if(n%2==0):\n",
    "        print(\"Square of {} minus 2: \".format(n) + str(n**2 -2))"
   ]
  },
  {
   "cell_type": "markdown",
   "metadata": {},
   "source": [
    "# Question 5:\n",
    "### Consider a list of 10 elements. Print all the elements in the list which are greater than 7 when that number is divided by 2."
   ]
  },
  {
   "cell_type": "code",
   "execution_count": 7,
   "metadata": {},
   "outputs": [
    {
     "name": "stdout",
     "output_type": "stream",
     "text": [
      "('Division of', 16, 'when 2 is greater than 7')\n",
      "('Division of', 20, 'when 2 is greater than 7')\n",
      "('Division of', 28, 'when 2 is greater than 7')\n",
      "('Division of', 30, 'when 2 is greater than 7')\n",
      "('Division of', 38, 'when 2 is greater than 7')\n",
      "('Division of', 50, 'when 2 is greater than 7')\n"
     ]
    }
   ],
   "source": [
    "a = [2,6,10,12,16,20,28,30,38,50]\n",
    "\n",
    "for n in a:\n",
    "    if(n/2)>7:\n",
    "        print(\"Division of\",n,\"when 2 is greater than 7\")"
   ]
  }
 ],
 "metadata": {
  "kernelspec": {
   "display_name": "Python 2",
   "language": "python",
   "name": "python2"
  },
  "language_info": {
   "codemirror_mode": {
    "name": "ipython",
    "version": 2
   },
   "file_extension": ".py",
   "mimetype": "text/x-python",
   "name": "python",
   "nbconvert_exporter": "python",
   "pygments_lexer": "ipython2",
   "version": "2.7.17"
  }
 },
 "nbformat": 4,
 "nbformat_minor": 2
}
