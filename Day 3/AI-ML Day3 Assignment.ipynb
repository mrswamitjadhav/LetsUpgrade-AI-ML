{
 "cells": [
  {
   "cell_type": "markdown",
   "metadata": {},
   "source": [
    "# Question 1 :\n",
    "### Write a program to subtract two complex numbers in Python."
   ]
  },
  {
   "cell_type": "code",
   "execution_count": 1,
   "metadata": {},
   "outputs": [
    {
     "name": "stdout",
     "output_type": "stream",
     "text": [
      "(5+31j)\n",
      "(6+32j)\n",
      "(-1-1j)\n"
     ]
    }
   ],
   "source": [
    "a = 5 + 31j \n",
    "b = 6 + 32j\n",
    "print(a)\n",
    "print(b)\n",
    "print(a-b)"
   ]
  },
  {
   "cell_type": "markdown",
   "metadata": {},
   "source": [
    "# Question 2 :\n",
    "### Write a program to find the fourth root of a number"
   ]
  },
  {
   "cell_type": "code",
   "execution_count": 5,
   "metadata": {},
   "outputs": [
    {
     "name": "stdout",
     "output_type": "stream",
     "text": [
      "('Fourth Root of ', 40, ' is :- ', 1)\n"
     ]
    }
   ],
   "source": [
    "#Input Number\n",
    "a = 40          \n",
    "fourth_root = a**(1/4)\n",
    "print(\"Fourth Root of \",a,\" is :- \",fourth_root) "
   ]
  },
  {
   "cell_type": "markdown",
   "metadata": {},
   "source": [
    "# Question 3:\n",
    "### Write a program to swap two numbers in Python with the help of a temporary variable"
   ]
  },
  {
   "cell_type": "code",
   "execution_count": 9,
   "metadata": {},
   "outputs": [
    {
     "name": "stdout",
     "output_type": "stream",
     "text": [
      "Enter First Number: 5\n",
      "Enter Second Number: 2\n",
      "Value of a before swapping:  5\n",
      "Value of b before swapping:  2\n",
      "Value of a after swapping:  2\n",
      "Value of b after swapping:  5\n"
     ]
    }
   ],
   "source": [
    "# swapping two numbers using temporary variable\n",
    "\n",
    "a = input('Enter First Number: ')\n",
    "b = input('Enter Second Number: ')\n",
    "\n",
    "print\"Value of a before swapping: \", a\n",
    "print\"Value of b before swapping: \", b\n",
    "\n",
    "c = a\n",
    "a = b\n",
    "b = c\n",
    "\n",
    "print\"Value of a after swapping: \", a\n",
    "print\"Value of b after swapping: \", b"
   ]
  },
  {
   "cell_type": "markdown",
   "metadata": {},
   "source": [
    "# Question 4:\n",
    "### Write a program to swap two numbers in Python without using a temporary variable"
   ]
  },
  {
   "cell_type": "code",
   "execution_count": 13,
   "metadata": {},
   "outputs": [
    {
     "name": "stdout",
     "output_type": "stream",
     "text": [
      "Enter First Number: 6\n",
      "Enter Second Number: 4\n",
      "Value of a before swapping:  6\n",
      "Value of b before swapping:  4\n",
      "Value of a after swapping:  4\n",
      "Value of b after swapping:  6\n"
     ]
    }
   ],
   "source": [
    "# swapping two numbers without using temporary variable\n",
    "\n",
    "a = input('Enter First Number: ')\n",
    "b = input('Enter Second Number: ')\n",
    "\n",
    "print\"Value of a before swapping: \", a\n",
    "print\"Value of b before swapping: \", b\n",
    "\n",
    "a, b = b, a\n",
    "\n",
    "print\"Value of a after swapping: \", a\n",
    "print\"Value of b after swapping: \", b"
   ]
  },
  {
   "cell_type": "markdown",
   "metadata": {},
   "source": [
    "# Question 5:\n",
    "### Write a program to convert fahrenheit to kelvin and celsius both."
   ]
  },
  {
   "cell_type": "code",
   "execution_count": 8,
   "metadata": {},
   "outputs": [
    {
     "name": "stdout",
     "output_type": "stream",
     "text": [
      "(50, ' Farhrenheit in Celius is : ', 10)\n",
      "(50, ' Farhrenheit in Kelvin is : ', 283.15)\n"
     ]
    }
   ],
   "source": [
    "# input number\n",
    "fahrenheit = 50   \n",
    "\n",
    "celsius = (fahrenheit - 32) * 5/9\n",
    "kelvin = (fahrenheit - 32) * 5/9 + 273.15\n",
    "\n",
    "print(fahrenheit,\" Farhrenheit in Celius is : \",celsius)\n",
    "print(fahrenheit,\" Farhrenheit in Kelvin is : \",kelvin)\n"
   ]
  },
  {
   "cell_type": "markdown",
   "metadata": {},
   "source": [
    "# Question 6:\n",
    "### Write a program to demonstrate all the available data types in Python. Hint: Use type() function"
   ]
  },
  {
   "cell_type": "code",
   "execution_count": 13,
   "metadata": {},
   "outputs": [
    {
     "name": "stdout",
     "output_type": "stream",
     "text": [
      "('Type of a is :', <type 'int'>)\n",
      "('Type of b is :', <type 'float'>)\n",
      "('Type of c is :', <type 'str'>)\n",
      "('Type of d is :', <type 'complex'>)\n",
      "('Type of e is :', <type 'set'>)\n",
      "('Type of f is :', <type 'list'>)\n",
      "('Type of g is :', <type 'tuple'>)\n",
      "('Type of h is :', <type 'dict'>)\n"
     ]
    }
   ],
   "source": [
    "a = 5\n",
    "b = 10.2\n",
    "c = \"Swamit\"\n",
    "d = 3 + 35j\n",
    "e = {5,2,3}\n",
    "f = [2,3,5]\n",
    "g = (5,6,8)\n",
    "h = {\"a\" : 5,\"b\" : \"Swamit\"}\n",
    "\n",
    "print(\"Type of a is :\",type(a))\n",
    "print(\"Type of b is :\",type(b))\n",
    "print(\"Type of c is :\",type(c))\n",
    "print(\"Type of d is :\",type(d))\n",
    "print(\"Type of e is :\",type(e))\n",
    "print(\"Type of f is :\",type(f))\n",
    "print(\"Type of g is :\",type(g))\n",
    "print(\"Type of h is :\",type(h))"
   ]
  },
  {
   "cell_type": "markdown",
   "metadata": {},
   "source": [
    "# Question 7:\n",
    "### Create a Markdown cell in jupyter and list the steps discussed in the session by Dr. Darshan Ingle sir to create Github profile and upload Githubs Assignment link.\n"
   ]
  },
  {
   "cell_type": "markdown",
   "metadata": {},
   "source": [
    "## step 1\n",
    "Open Github.com and create your github account using mail id\n",
    "\n",
    "## step 2\n",
    "Now open your profile and create a new repository named \"LetsUpgrade AI/ML\" keep the repository public\n",
    "\n",
    "## step 3\n",
    "Now click on \"uploading existing file\" and drag and drop ur assignment folder on Github.\n",
    "\n",
    "## step 4\n",
    "Now after completing upload click on \"Commit changes\"\n",
    "\n",
    "## step 5\n",
    "Copy the url of the page and paste it on \"Assignment submission link\" provided by LetsUpgrade and submit ur Assignment"
   ]
  },
  {
   "cell_type": "code",
   "execution_count": null,
   "metadata": {},
   "outputs": [],
   "source": []
  }
 ],
 "metadata": {
  "kernelspec": {
   "display_name": "Python 2",
   "language": "python",
   "name": "python2"
  },
  "language_info": {
   "codemirror_mode": {
    "name": "ipython",
    "version": 2
   },
   "file_extension": ".py",
   "mimetype": "text/x-python",
   "name": "python",
   "nbconvert_exporter": "python",
   "pygments_lexer": "ipython2",
   "version": "2.7.17"
  }
 },
 "nbformat": 4,
 "nbformat_minor": 2
}
